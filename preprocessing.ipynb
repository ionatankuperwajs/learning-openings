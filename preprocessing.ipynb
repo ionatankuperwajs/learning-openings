{
 "cells": [
  {
   "cell_type": "markdown",
   "id": "124c9063",
   "metadata": {},
   "source": [
    "# Preprocessing for opening analysis"
   ]
  },
  {
   "cell_type": "code",
   "execution_count": 1,
   "id": "eba47407",
   "metadata": {},
   "outputs": [],
   "source": [
    "import chess.pgn\n",
    "import pickle\n",
    "import numpy as np\n",
    "import pandas as pd\n",
    "from collections import defaultdict\n",
    "from datetime import datetime "
   ]
  },
  {
   "cell_type": "markdown",
   "id": "3a0a5409",
   "metadata": {},
   "source": [
    "## Function definitions"
   ]
  },
  {
   "cell_type": "code",
   "execution_count": 2,
   "id": "d3c48714",
   "metadata": {},
   "outputs": [],
   "source": [
    "def load_games(filename,forbidden_players,verbose=False):\n",
    "    games = []\n",
    "    with open(filename) as pgn:\n",
    "        offsets = []\n",
    "        \n",
    "        while True:\n",
    "            offset = pgn.tell()\n",
    "            headers = chess.pgn.read_headers(pgn)\n",
    "            if headers is None:\n",
    "                 break\n",
    "            if not headers.get(\"Black\", \"?\") in forbidden_players:\n",
    "                offsets.append(offset)\n",
    "        for offset in offsets:\n",
    "            pgn.seek(offset)\n",
    "            game = chess.pgn.read_game(pgn) \n",
    "            if game is None: \n",
    "                break\n",
    "            else:\n",
    "                games += [game]\n",
    "                if verbose and len(games)%1000==0:\n",
    "                    print(len(games))\n",
    "        return games"
   ]
  },
  {
   "cell_type": "code",
   "execution_count": 3,
   "id": "48180401",
   "metadata": {},
   "outputs": [],
   "source": [
    "def load_all_headers(filename,verbose=False):\n",
    "    headers = []\n",
    "    with open(filename) as pgn:\n",
    "        while True:\n",
    "            header = chess.pgn.read_headers(pgn) \n",
    "            if header is None:\n",
    "                return headers\n",
    "            else:\n",
    "                headers += [header]\n",
    "                if verbose and len(headers)%1000==0:\n",
    "                    print(len(headers))"
   ]
  },
  {
   "cell_type": "code",
   "execution_count": 4,
   "id": "9804ae51",
   "metadata": {},
   "outputs": [],
   "source": [
    "# Set the directory for the data\n",
    "direc = '/Volumes/ikuperwajs/'"
   ]
  },
  {
   "cell_type": "markdown",
   "id": "2f22f70c",
   "metadata": {},
   "source": [
    "## Queen's Gambit"
   ]
  },
  {
   "cell_type": "code",
   "execution_count": 40,
   "id": "2d68b785",
   "metadata": {},
   "outputs": [
    {
     "name": "stdout",
     "output_type": "stream",
     "text": [
      "13\n",
      "14\n"
     ]
    }
   ],
   "source": [
    "# Load the header files and create a dataframe\n",
    "for j in range(9,15):\n",
    "    print(j)\n",
    "    games = load_games(direc + 'QG_games_{:d}_{:02d}.txt'.format(2020 + j//12,j%12+1),[])\n",
    "    \n",
    "    d = {'1-0' : 1, '1/2-1/2' : 1/2, '0-1' : 0, '*' : np.nan}\n",
    "    d_black = defaultdict(lambda : 0)\n",
    "    d_white = defaultdict(lambda : 0)\n",
    "\n",
    "    whiteplayers = np.array([game.headers['White'] for game in games])\n",
    "    blackplayers = np.array([game.headers['Black'] for game in games])\n",
    "\n",
    "    game_start_times = np.array([datetime.fromisoformat(game.headers['UTCDate'].replace('.','-') + ' ' + game.headers['UTCTime']).timestamp()\n",
    "                   for game in games])\n",
    "    fourthmoves = np.array([list(game.mainline_moves())[3].uci() if len(list(game.mainline_moves()))>=4 else '' for game in games])\n",
    "    results = np.array([d[game.headers['Result']] for game in games])\n",
    "    fourthmove_rts = np.array([list(game.mainline())[1].clock()-list(game.mainline())[3].clock() if len(list(game.mainline_moves()))>=4 else np.nan for game in games])\n",
    "    whiteelos = np.array([int(game.headers['WhiteElo']) for game in games])\n",
    "    blackelos = np.array([int(game.headers['BlackElo']) for game in games])\n",
    "\n",
    "    num_white_games = np.zeros_like(blackplayers,dtype=int)\n",
    "    num_black_games = np.zeros_like(blackplayers,dtype=int)\n",
    "    for i,_ in enumerate(blackplayers):\n",
    "        num_white_games[i] = d_white[blackplayers[i]]\n",
    "        num_black_games[i] = d_black[blackplayers[i]]\n",
    "        d_black[blackplayers[i]] += 1\n",
    "        d_white[whiteplayers[i]] += 1\n",
    "\n",
    "    pd.DataFrame({'black': blackplayers, 'white' : whiteplayers, 'start_time' : game_start_times, 'fourthmove' : fourthmoves,\n",
    "                  'rt' : fourthmove_rts, 'result' : results, 'blackelo' : blackelos, 'whiteelo' : whiteelos, 'num_black_games' : num_black_games, 'num_white_games' : num_white_games\n",
    "                 }).to_csv(direc + 'df_{:d}_{:02d}.csv'.format(2020 + j//12,j%12+1))"
   ]
  },
  {
   "cell_type": "code",
   "execution_count": 21,
   "id": "c2a1686a",
   "metadata": {},
   "outputs": [],
   "source": [
    "# Load the header files and create a pickle file with the users\n",
    "for i in range(3,10):\n",
    "    print(i)\n",
    "    headers = load_all_headers(direc + 'QG_games_2020_0' + str(i) + '.txt')\n",
    "    players = np.unique([h['White'] for h in headers] + [h['Black'] for h in headers])\n",
    "    with open(direc + 'QG_players_2020_0' + str(i) + '.pkl', 'wb') as file: \n",
    "        pickle.dump(players, file) "
   ]
  },
  {
   "cell_type": "markdown",
   "id": "9f22cf24",
   "metadata": {},
   "source": [
    "## Sicilian Defense"
   ]
  },
  {
   "cell_type": "code",
   "execution_count": 36,
   "id": "90a9272f",
   "metadata": {},
   "outputs": [
    {
     "name": "stdout",
     "output_type": "stream",
     "text": [
      "9\n",
      "10\n",
      "11\n",
      "12\n",
      "13\n",
      "14\n"
     ]
    }
   ],
   "source": [
    "# Load the header files and create a dataframe\n",
    "for j in range(9,15):\n",
    "    print(j)\n",
    "    games = load_games(direc + 'SD_games_{:d}_{:02d}.txt'.format(2020 + j//12,j%12+1),[])\n",
    "    \n",
    "    d = {'1-0' : 1, '1/2-1/2' : 1/2, '0-1' : 0, '*' : np.nan}\n",
    "    d_black = defaultdict(lambda : 0)\n",
    "    d_white = defaultdict(lambda : 0)\n",
    "\n",
    "    whiteplayers = np.array([game.headers['White'] for game in games])\n",
    "    blackplayers = np.array([game.headers['Black'] for game in games])\n",
    "\n",
    "    game_start_times = np.array([datetime.fromisoformat(game.headers['UTCDate'].replace('.','-') + ' ' + game.headers['UTCTime']).timestamp()\n",
    "                   for game in games])\n",
    "    thirdmoves = np.array([list(game.mainline_moves())[2].uci() if len(list(game.mainline_moves()))>=3 else '' for game in games])\n",
    "    results = np.array([d[game.headers['Result']] for game in games])\n",
    "    thirdmove_rts = np.array([list(game.mainline())[0].clock()-list(game.mainline())[2].clock() if len(list(game.mainline_moves()))>=3 else np.nan for game in games])\n",
    "    whiteelos = np.array([int(game.headers['WhiteElo']) for game in games])\n",
    "    blackelos = np.array([int(game.headers['BlackElo']) for game in games])\n",
    "\n",
    "    num_white_games = np.zeros_like(blackplayers,dtype=int)\n",
    "    num_black_games = np.zeros_like(blackplayers,dtype=int)\n",
    "    for i,_ in enumerate(blackplayers):\n",
    "        num_white_games[i] = d_white[blackplayers[i]]\n",
    "        num_black_games[i] = d_black[blackplayers[i]]\n",
    "        d_black[blackplayers[i]] += 1\n",
    "        d_white[whiteplayers[i]] += 1\n",
    "\n",
    "    pd.DataFrame({'black': blackplayers, 'white' : whiteplayers, 'start_time' : game_start_times, 'thirdmove' : thirdmoves,\n",
    "                  'rt' : thirdmove_rts, 'result' : results, 'blackelo' : blackelos, 'whiteelo' : whiteelos, 'num_black_games' : num_black_games, 'num_white_games' : num_white_games\n",
    "                 }).to_csv(direc + 'df_{:d}_{:02d}.csv'.format(2020 + j//12,j%12+1))"
   ]
  },
  {
   "cell_type": "code",
   "execution_count": 32,
   "id": "4a744914",
   "metadata": {},
   "outputs": [
    {
     "name": "stdout",
     "output_type": "stream",
     "text": [
      "3\n",
      "4\n",
      "5\n",
      "6\n",
      "7\n",
      "8\n",
      "9\n"
     ]
    }
   ],
   "source": [
    "# Load the header files and create a pickle file with the users\n",
    "for i in range(3,10):\n",
    "    print(i)\n",
    "    headers = load_all_headers(direc + 'SD_games_2020_0' + str(i) + '.txt')\n",
    "    players = np.unique([h['White'] for h in headers] + [h['Black'] for h in headers])\n",
    "    with open(direc + 'SD_players_2020_0' + str(i) + '.pkl', 'wb') as file: \n",
    "        pickle.dump(players, file) "
   ]
  },
  {
   "cell_type": "markdown",
   "id": "2f6b0d75",
   "metadata": {},
   "source": [
    "## King's Gambit"
   ]
  },
  {
   "cell_type": "code",
   "execution_count": 5,
   "id": "8f49b017",
   "metadata": {},
   "outputs": [
    {
     "name": "stdout",
     "output_type": "stream",
     "text": [
      "9\n",
      "10\n",
      "11\n",
      "12\n",
      "13\n",
      "14\n"
     ]
    }
   ],
   "source": [
    "# Load the header files and create a dataframe\n",
    "for j in range(9,15):\n",
    "    print(j)\n",
    "    games = load_games(direc + 'KG_games_{:d}_{:02d}.txt'.format(2020 + j//12,j%12+1),[])\n",
    "    \n",
    "    d = {'1-0' : 1, '1/2-1/2' : 1/2, '0-1' : 0, '*' : np.nan}\n",
    "    d_black = defaultdict(lambda : 0)\n",
    "    d_white = defaultdict(lambda : 0)\n",
    "\n",
    "    whiteplayers = np.array([game.headers['White'] for game in games])\n",
    "    blackplayers = np.array([game.headers['Black'] for game in games])\n",
    "\n",
    "    game_start_times = np.array([datetime.fromisoformat(game.headers['UTCDate'].replace('.','-') + ' ' + game.headers['UTCTime']).timestamp()\n",
    "                   for game in games])\n",
    "    fourthmoves = np.array([list(game.mainline_moves())[3].uci() if len(list(game.mainline_moves()))>=4 else '' for game in games])\n",
    "    results = np.array([d[game.headers['Result']] for game in games])\n",
    "    fourthmove_rts = np.array([list(game.mainline())[1].clock()-list(game.mainline())[3].clock() if len(list(game.mainline_moves()))>=4 else np.nan for game in games])\n",
    "    whiteelos = np.array([int(game.headers['WhiteElo']) for game in games])\n",
    "    blackelos = np.array([int(game.headers['BlackElo']) for game in games])\n",
    "\n",
    "    num_white_games = np.zeros_like(blackplayers,dtype=int)\n",
    "    num_black_games = np.zeros_like(blackplayers,dtype=int)\n",
    "    for i,_ in enumerate(blackplayers):\n",
    "        num_white_games[i] = d_white[blackplayers[i]]\n",
    "        num_black_games[i] = d_black[blackplayers[i]]\n",
    "        d_black[blackplayers[i]] += 1\n",
    "        d_white[whiteplayers[i]] += 1\n",
    "\n",
    "    pd.DataFrame({'black': blackplayers, 'white' : whiteplayers, 'start_time' : game_start_times, 'fourthmove' : fourthmoves,\n",
    "                  'rt' : fourthmove_rts, 'result' : results, 'blackelo' : blackelos, 'whiteelo' : whiteelos, 'num_black_games' : num_black_games, 'num_white_games' : num_white_games\n",
    "                 }).to_csv(direc + 'df_{:d}_{:02d}.csv'.format(2020 + j//12,j%12+1))"
   ]
  },
  {
   "cell_type": "code",
   "execution_count": 6,
   "id": "f4418d17",
   "metadata": {},
   "outputs": [
    {
     "name": "stdout",
     "output_type": "stream",
     "text": [
      "3\n",
      "4\n",
      "5\n",
      "6\n",
      "7\n",
      "8\n",
      "9\n"
     ]
    }
   ],
   "source": [
    "# Load the header files and create a pickle file with the users\n",
    "for i in range(3,10):\n",
    "    print(i)\n",
    "    headers = load_all_headers(direc + 'KG_games_2020_0' + str(i) + '.txt')\n",
    "    players = np.unique([h['White'] for h in headers] + [h['Black'] for h in headers])\n",
    "    with open(direc + 'KG_players_2020_0' + str(i) + '.pkl', 'wb') as file: \n",
    "        pickle.dump(players, file) "
   ]
  }
 ],
 "metadata": {
  "kernelspec": {
   "display_name": "Python 3",
   "language": "python",
   "name": "python3"
  },
  "language_info": {
   "codemirror_mode": {
    "name": "ipython",
    "version": 3
   },
   "file_extension": ".py",
   "mimetype": "text/x-python",
   "name": "python",
   "nbconvert_exporter": "python",
   "pygments_lexer": "ipython3",
   "version": "3.7.3"
  }
 },
 "nbformat": 4,
 "nbformat_minor": 5
}
